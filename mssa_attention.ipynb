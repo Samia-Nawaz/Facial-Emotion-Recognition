{
 "cells": [
  {
   "cell_type": "code",
   "execution_count": null,
   "id": "2c4d966a",
   "metadata": {},
   "outputs": [],
   "source": [
    "import torch\n",
    "import torch.nn as nn\n",
    "\n",
    "class MSSA(nn.Module):\n",
    "    def __init__(self, num_features, num_scales=3):\n",
    "        super(MSSA, self).__init__()\n",
    "        self.simplicial_weights = nn.ModuleList([\n",
    "            nn.Linear(num_features, num_features) for _ in range(num_scales)\n",
    "        ])\n",
    "        self.attention_weights = nn.ModuleList([\n",
    "            nn.Parameter(torch.rand(num_features)) for _ in range(num_scales)\n",
    "        ])\n",
    "\n",
    "    def forward(self, feature_maps):\n",
    "        simplicial_outputs = []\n",
    "        \n",
    "        for i, feature in enumerate(feature_maps):\n",
    "            transformed_feature = self.simplicial_weights[i](feature)\n",
    "            attention_score = torch.sigmoid(self.attention_weights[i]) * transformed_feature\n",
    "            simplicial_outputs.append(attention_score)\n",
    "\n",
    "        aggregated_features = torch.mean(torch.stack(simplicial_outputs), dim=0)\n",
    "        return aggregated_features\n",
    "\n",
    "if __name__ == \"__main__\":\n",
    "    print(\"Multi-Scale Simplicial Attention Initialized\")\n"
   ]
  }
 ],
 "metadata": {
  "kernelspec": {
   "display_name": "Python 3 (ipykernel)",
   "language": "python",
   "name": "python3"
  },
  "language_info": {
   "codemirror_mode": {
    "name": "ipython",
    "version": 3
   },
   "file_extension": ".py",
   "mimetype": "text/x-python",
   "name": "python",
   "nbconvert_exporter": "python",
   "pygments_lexer": "ipython3",
   "version": "3.11.5"
  }
 },
 "nbformat": 4,
 "nbformat_minor": 5
}
