{
 "cells": [
  {
   "cell_type": "code",
   "execution_count": null,
   "id": "1d7896fe",
   "metadata": {},
   "outputs": [],
   "source": [
    "import torch\n",
    "import torch.nn as nn\n",
    "\n",
    "class HybridAdaptiveAttention(nn.Module):\n",
    "    def __init__(self, in_channels):\n",
    "        super(HybridAdaptiveAttention, self).__init__()\n",
    "        self.spatial_attention = nn.Conv2d(in_channels, 1, kernel_size=3, padding=1)\n",
    "        self.channel_attention = nn.Sequential(\n",
    "            nn.AdaptiveAvgPool2d(1),\n",
    "            nn.Conv2d(in_channels, in_channels // 4, 1),\n",
    "            nn.ReLU(),\n",
    "            nn.Conv2d(in_channels // 4, in_channels, 1),\n",
    "            nn.Sigmoid()\n",
    "        )\n",
    "\n",
    "    def forward(self, x):\n",
    "        spatial_att = torch.sigmoid(self.spatial_attention(x))\n",
    "        x = x * spatial_att\n",
    "        channel_att = self.channel_attention(x)\n",
    "        x = x * channel_att\n",
    "        return x\n",
    "\n",
    "if __name__ == \"__main__\":\n",
    "    print(\"Hybrid Adaptive Attention Initialized\")\n"
   ]
  }
 ],
 "metadata": {
  "kernelspec": {
   "display_name": "Python 3 (ipykernel)",
   "language": "python",
   "name": "python3"
  },
  "language_info": {
   "codemirror_mode": {
    "name": "ipython",
    "version": 3
   },
   "file_extension": ".py",
   "mimetype": "text/x-python",
   "name": "python",
   "nbconvert_exporter": "python",
   "pygments_lexer": "ipython3",
   "version": "3.11.5"
  }
 },
 "nbformat": 4,
 "nbformat_minor": 5
}
